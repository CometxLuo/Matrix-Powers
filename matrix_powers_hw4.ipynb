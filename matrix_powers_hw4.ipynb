{
 "cells": [
  {
   "cell_type": "markdown",
   "id": "79805625",
   "metadata": {},
   "source": [
    "# Matrix powers"
   ]
  },
  {
   "cell_type": "markdown",
   "id": "c1333002",
   "metadata": {},
   "source": [
    "The goal of this notebook is to show how to compute products of matrices and powers of matrices using Python. First, we import the `numpy` library, which provides tools for such computations:"
   ]
  },
  {
   "cell_type": "code",
   "execution_count": 1,
   "id": "7315b0ab",
   "metadata": {},
   "outputs": [],
   "source": [
    "import numpy as np"
   ]
  },
  {
   "cell_type": "markdown",
   "id": "adef1cb6",
   "metadata": {},
   "source": [
    "Next we define a couple matrices using `numpy`:"
   ]
  },
  {
   "cell_type": "code",
   "execution_count": 2,
   "id": "d85ab04a",
   "metadata": {},
   "outputs": [],
   "source": [
    "A = np.array([[1, 2, 3],\n",
    "              [4, 3, 6],\n",
    "              [7, 8, 9]])\n",
    "\n",
    "B = np.array([[0, 1, 3],\n",
    "              [2, 5, 2],\n",
    "              [0, 0, 1]])"
   ]
  },
  {
   "cell_type": "code",
   "execution_count": 3,
   "id": "02ba626f",
   "metadata": {},
   "outputs": [
    {
     "name": "stdout",
     "output_type": "stream",
     "text": [
      "[[1 2 3]\n",
      " [4 3 6]\n",
      " [7 8 9]]\n"
     ]
    }
   ],
   "source": [
    "print(A)"
   ]
  },
  {
   "cell_type": "code",
   "execution_count": 4,
   "id": "7c12012d",
   "metadata": {},
   "outputs": [
    {
     "name": "stdout",
     "output_type": "stream",
     "text": [
      "[[0 1 3]\n",
      " [2 5 2]\n",
      " [0 0 1]]\n"
     ]
    }
   ],
   "source": [
    "print(B)"
   ]
  },
  {
   "cell_type": "markdown",
   "id": "6152c0bf",
   "metadata": {},
   "source": [
    "## Matrix multiplication"
   ]
  },
  {
   "cell_type": "markdown",
   "id": "b4351e68",
   "metadata": {},
   "source": [
    "The operator `@` performs matrix multiplication:"
   ]
  },
  {
   "cell_type": "code",
   "execution_count": 5,
   "id": "6b64b57a",
   "metadata": {},
   "outputs": [
    {
     "data": {
      "text/plain": [
       "array([[ 4, 11, 10],\n",
       "       [ 6, 19, 24],\n",
       "       [16, 47, 46]])"
      ]
     },
     "execution_count": 5,
     "metadata": {},
     "output_type": "execute_result"
    }
   ],
   "source": [
    "A@B"
   ]
  },
  {
   "cell_type": "markdown",
   "id": "9e5e05ae",
   "metadata": {},
   "source": [
    "## Matrix powers"
   ]
  },
  {
   "cell_type": "markdown",
   "id": "cfc1cbfd",
   "metadata": {},
   "source": [
    "To take a power of a matrix we can multiply it by itself some number of times:"
   ]
  },
  {
   "cell_type": "code",
   "execution_count": 6,
   "id": "970bf529",
   "metadata": {},
   "outputs": [
    {
     "data": {
      "text/plain": [
       "array([[ 7040,  7660, 10248],\n",
       "       [14078, 15321, 20496],\n",
       "       [24740, 26914, 36024]])"
      ]
     },
     "execution_count": 6,
     "metadata": {},
     "output_type": "execute_result"
    }
   ],
   "source": [
    "# compute the 4th power of A\n",
    "A@A@A@A"
   ]
  },
  {
   "cell_type": "markdown",
   "id": "2b62937c",
   "metadata": {},
   "source": [
    "However, it is simpler and faster to use the `np.linalg.matrix_power` function that it designed to compute a given power of a matrix:"
   ]
  },
  {
   "cell_type": "code",
   "execution_count": 7,
   "id": "29db39cf",
   "metadata": {},
   "outputs": [
    {
     "data": {
      "text/plain": [
       "array([[ 7040,  7660, 10248],\n",
       "       [14078, 15321, 20496],\n",
       "       [24740, 26914, 36024]])"
      ]
     },
     "execution_count": 7,
     "metadata": {},
     "output_type": "execute_result"
    }
   ],
   "source": [
    "# compute the 4th power of A\n",
    "np.linalg.matrix_power(A, 4)"
   ]
  },
  {
   "cell_type": "markdown",
   "id": "ee820c65",
   "metadata": {},
   "source": [
    "## Sum of entries of a matrix"
   ]
  },
  {
   "cell_type": "markdown",
   "id": "e1a71b9a",
   "metadata": {},
   "source": [
    "Here is one more numpy computation that may come handy in Homework 4. If `A` is a numpy matrix then \n",
    "`A.sum()` computes the sum of all entries of `A`."
   ]
  },
  {
   "cell_type": "code",
   "execution_count": 8,
   "id": "18517617",
   "metadata": {},
   "outputs": [
    {
     "name": "stdout",
     "output_type": "stream",
     "text": [
      "[[1 2 3]\n",
      " [4 3 6]\n",
      " [7 8 9]]\n"
     ]
    }
   ],
   "source": [
    "print(A)"
   ]
  },
  {
   "cell_type": "code",
   "execution_count": 9,
   "id": "9a0771a5",
   "metadata": {},
   "outputs": [
    {
     "data": {
      "text/plain": [
       "43"
      ]
     },
     "execution_count": 9,
     "metadata": {},
     "output_type": "execute_result"
    }
   ],
   "source": [
    "A.sum()"
   ]
  },
  {
   "cell_type": "code",
   "execution_count": 10,
   "id": "85ecc33c",
   "metadata": {},
   "outputs": [
    {
     "data": {
      "text/plain": [
       "array([[157, 148, 151, 201, 133, 142],\n",
       "       [258, 302, 215, 303, 248, 259],\n",
       "       [404, 414, 399, 520, 341, 409],\n",
       "       [290, 343, 281, 441, 293, 334],\n",
       "       [533, 586, 474, 703, 515, 527],\n",
       "       [419, 473, 421, 561, 367, 475]])"
      ]
     },
     "execution_count": 10,
     "metadata": {},
     "output_type": "execute_result"
    }
   ],
   "source": [
    "A1 = np.array([[0,0,0,1,0,0],\n",
    "               [1,0,1,0,0,0],\n",
    "               [0,0,0,1,1,0],\n",
    "               [0,1,0,0,0,1],\n",
    "               [0,0,1,1,0,1],\n",
    "               [1,1,0,0,1,0]])\n",
    "\n",
    "A1@A1@A1@A1@A1@A1@A1@A1@A1@A1"
   ]
  },
  {
   "cell_type": "code",
   "execution_count": 11,
   "id": "696c164d",
   "metadata": {},
   "outputs": [
    {
     "data": {
      "text/plain": [
       "array([[33, 27, 39, 13, 26],\n",
       "       [27, 20, 14, 12, 13],\n",
       "       [53, 65, 46, 26, 52],\n",
       "       [77, 77, 77, 34, 66],\n",
       "       [90, 78, 65, 40, 59]])"
      ]
     },
     "execution_count": 11,
     "metadata": {},
     "output_type": "execute_result"
    }
   ],
   "source": [
    "A2 = np.array([[0,0,1,0,0],\n",
    "               [1,0,0,0,0],\n",
    "               [0,1,0,0,1],\n",
    "               [0,0,1,0,1],\n",
    "               [1,1,0,1,0]])\n",
    "\n",
    "A2@A2@A2@A2@A2@A2@A2@A2@A2@A2"
   ]
  },
  {
   "cell_type": "code",
   "execution_count": 12,
   "id": "f3260077",
   "metadata": {},
   "outputs": [
    {
     "name": "stdout",
     "output_type": "stream",
     "text": [
      "[[ 9970  7787  9969  9969 10533]\n",
      " [ 7787  6096  7787  7787  8238]\n",
      " [ 9969  7787  9970  9969 10533]\n",
      " [ 9969  7787  9969  9970 10533]\n",
      " [10533  8238 10533 10533 11137]]\n",
      "233353\n"
     ]
    }
   ],
   "source": [
    "A = np.array([[0,1,1,1,1],\n",
    "              [1,0,1,1,0],\n",
    "              [1,1,1,0,1],\n",
    "              [1,1,0,1,1],\n",
    "              [1,0,1,1,1]])\n",
    "\n",
    "A8 = A@A@A@A@A@A@A@A\n",
    "print(A8)\n",
    "print(A8.sum())"
   ]
  },
  {
   "cell_type": "code",
   "execution_count": 5,
   "id": "a3fb57c0",
   "metadata": {},
   "outputs": [
    {
     "data": {
      "text/plain": [
       "array([[ 918, 1301, 2394, 2337, 1420, 2362],\n",
       "       [1187, 1698, 3109, 3066, 1879, 3085],\n",
       "       [ 905, 1295, 2357, 2299, 1394, 2331],\n",
       "       [1150, 1614, 3010, 2935, 1784, 2947],\n",
       "       [ 804, 1118, 2105, 2055, 1252, 2060],\n",
       "       [1112, 1564, 2915, 2859, 1747, 2866]])"
      ]
     },
     "execution_count": 5,
     "metadata": {},
     "output_type": "execute_result"
    }
   ],
   "source": [
    "A1 = np.array([[0,1,0,1,0,0],\n",
    "               [0,0,0,1,1,1],\n",
    "               [0,1,0,0,0,1],\n",
    "               [1,0,1,0,0,1],\n",
    "               [0,0,1,1,0,0],\n",
    "               [0,0,1,1,1,0]])\n",
    "\n",
    "A1@A1@A1@A1@A1@A1@A1@A1@A1@A1"
   ]
  },
  {
   "cell_type": "code",
   "execution_count": null,
   "id": "2194d96c",
   "metadata": {},
   "outputs": [],
   "source": []
  }
 ],
 "metadata": {
  "kernelspec": {
   "display_name": "Python 3 (ipykernel)",
   "language": "python",
   "name": "python3"
  },
  "language_info": {
   "codemirror_mode": {
    "name": "ipython",
    "version": 3
   },
   "file_extension": ".py",
   "mimetype": "text/x-python",
   "name": "python",
   "nbconvert_exporter": "python",
   "pygments_lexer": "ipython3",
   "version": "3.9.13"
  }
 },
 "nbformat": 4,
 "nbformat_minor": 5
}
